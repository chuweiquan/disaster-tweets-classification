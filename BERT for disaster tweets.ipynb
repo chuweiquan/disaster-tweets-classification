{
 "cells": [
  {
   "cell_type": "code",
   "execution_count": 1,
   "id": "05de4578",
   "metadata": {},
   "outputs": [],
   "source": [
    "import pandas as pd\n",
    "import numpy as np\n",
    "import tensorflow \n",
    "import torch\n",
    "import matplotlib.pyplot as plt\n",
    "import seaborn as sns\n",
    "import random\n",
    "import time\n",
    "import datetime\n",
    "import re\n",
    "import string\n",
    "\n",
    "from sklearn.model_selection import train_test_split\n",
    "\n",
    "%matplotlib inline"
   ]
  },
  {
   "cell_type": "code",
   "execution_count": 2,
   "id": "964addc3",
   "metadata": {},
   "outputs": [],
   "source": [
    "train = pd.read_csv(\"data/train.csv\")\n",
    "test = pd.read_csv(\"data/test.csv\")"
   ]
  },
  {
   "cell_type": "code",
   "execution_count": 3,
   "id": "3c1286cd",
   "metadata": {},
   "outputs": [
    {
     "data": {
      "text/html": [
       "<div>\n",
       "<style scoped>\n",
       "    .dataframe tbody tr th:only-of-type {\n",
       "        vertical-align: middle;\n",
       "    }\n",
       "\n",
       "    .dataframe tbody tr th {\n",
       "        vertical-align: top;\n",
       "    }\n",
       "\n",
       "    .dataframe thead th {\n",
       "        text-align: right;\n",
       "    }\n",
       "</style>\n",
       "<table border=\"1\" class=\"dataframe\">\n",
       "  <thead>\n",
       "    <tr style=\"text-align: right;\">\n",
       "      <th></th>\n",
       "      <th>id</th>\n",
       "      <th>keyword</th>\n",
       "      <th>location</th>\n",
       "      <th>text</th>\n",
       "      <th>target</th>\n",
       "    </tr>\n",
       "  </thead>\n",
       "  <tbody>\n",
       "    <tr>\n",
       "      <th>0</th>\n",
       "      <td>1</td>\n",
       "      <td>NaN</td>\n",
       "      <td>NaN</td>\n",
       "      <td>Our Deeds are the Reason of this #earthquake M...</td>\n",
       "      <td>1</td>\n",
       "    </tr>\n",
       "    <tr>\n",
       "      <th>1</th>\n",
       "      <td>4</td>\n",
       "      <td>NaN</td>\n",
       "      <td>NaN</td>\n",
       "      <td>Forest fire near La Ronge Sask. Canada</td>\n",
       "      <td>1</td>\n",
       "    </tr>\n",
       "    <tr>\n",
       "      <th>2</th>\n",
       "      <td>5</td>\n",
       "      <td>NaN</td>\n",
       "      <td>NaN</td>\n",
       "      <td>All residents asked to 'shelter in place' are ...</td>\n",
       "      <td>1</td>\n",
       "    </tr>\n",
       "    <tr>\n",
       "      <th>3</th>\n",
       "      <td>6</td>\n",
       "      <td>NaN</td>\n",
       "      <td>NaN</td>\n",
       "      <td>13,000 people receive #wildfires evacuation or...</td>\n",
       "      <td>1</td>\n",
       "    </tr>\n",
       "    <tr>\n",
       "      <th>4</th>\n",
       "      <td>7</td>\n",
       "      <td>NaN</td>\n",
       "      <td>NaN</td>\n",
       "      <td>Just got sent this photo from Ruby #Alaska as ...</td>\n",
       "      <td>1</td>\n",
       "    </tr>\n",
       "  </tbody>\n",
       "</table>\n",
       "</div>"
      ],
      "text/plain": [
       "   id keyword location                                               text  \\\n",
       "0   1     NaN      NaN  Our Deeds are the Reason of this #earthquake M...   \n",
       "1   4     NaN      NaN             Forest fire near La Ronge Sask. Canada   \n",
       "2   5     NaN      NaN  All residents asked to 'shelter in place' are ...   \n",
       "3   6     NaN      NaN  13,000 people receive #wildfires evacuation or...   \n",
       "4   7     NaN      NaN  Just got sent this photo from Ruby #Alaska as ...   \n",
       "\n",
       "   target  \n",
       "0       1  \n",
       "1       1  \n",
       "2       1  \n",
       "3       1  \n",
       "4       1  "
      ]
     },
     "execution_count": 3,
     "metadata": {},
     "output_type": "execute_result"
    }
   ],
   "source": [
    "train.head()"
   ]
  },
  {
   "cell_type": "code",
   "execution_count": 4,
   "id": "75a9e1ba",
   "metadata": {},
   "outputs": [
    {
     "data": {
      "text/html": [
       "<div>\n",
       "<style scoped>\n",
       "    .dataframe tbody tr th:only-of-type {\n",
       "        vertical-align: middle;\n",
       "    }\n",
       "\n",
       "    .dataframe tbody tr th {\n",
       "        vertical-align: top;\n",
       "    }\n",
       "\n",
       "    .dataframe thead th {\n",
       "        text-align: right;\n",
       "    }\n",
       "</style>\n",
       "<table border=\"1\" class=\"dataframe\">\n",
       "  <thead>\n",
       "    <tr style=\"text-align: right;\">\n",
       "      <th></th>\n",
       "      <th>id</th>\n",
       "      <th>keyword</th>\n",
       "      <th>location</th>\n",
       "      <th>text</th>\n",
       "    </tr>\n",
       "  </thead>\n",
       "  <tbody>\n",
       "    <tr>\n",
       "      <th>0</th>\n",
       "      <td>0</td>\n",
       "      <td>NaN</td>\n",
       "      <td>NaN</td>\n",
       "      <td>Just happened a terrible car crash</td>\n",
       "    </tr>\n",
       "    <tr>\n",
       "      <th>1</th>\n",
       "      <td>2</td>\n",
       "      <td>NaN</td>\n",
       "      <td>NaN</td>\n",
       "      <td>Heard about #earthquake is different cities, s...</td>\n",
       "    </tr>\n",
       "    <tr>\n",
       "      <th>2</th>\n",
       "      <td>3</td>\n",
       "      <td>NaN</td>\n",
       "      <td>NaN</td>\n",
       "      <td>there is a forest fire at spot pond, geese are...</td>\n",
       "    </tr>\n",
       "    <tr>\n",
       "      <th>3</th>\n",
       "      <td>9</td>\n",
       "      <td>NaN</td>\n",
       "      <td>NaN</td>\n",
       "      <td>Apocalypse lighting. #Spokane #wildfires</td>\n",
       "    </tr>\n",
       "    <tr>\n",
       "      <th>4</th>\n",
       "      <td>11</td>\n",
       "      <td>NaN</td>\n",
       "      <td>NaN</td>\n",
       "      <td>Typhoon Soudelor kills 28 in China and Taiwan</td>\n",
       "    </tr>\n",
       "  </tbody>\n",
       "</table>\n",
       "</div>"
      ],
      "text/plain": [
       "   id keyword location                                               text\n",
       "0   0     NaN      NaN                 Just happened a terrible car crash\n",
       "1   2     NaN      NaN  Heard about #earthquake is different cities, s...\n",
       "2   3     NaN      NaN  there is a forest fire at spot pond, geese are...\n",
       "3   9     NaN      NaN           Apocalypse lighting. #Spokane #wildfires\n",
       "4  11     NaN      NaN      Typhoon Soudelor kills 28 in China and Taiwan"
      ]
     },
     "execution_count": 4,
     "metadata": {},
     "output_type": "execute_result"
    }
   ],
   "source": [
    "test.head()"
   ]
  },
  {
   "cell_type": "code",
   "execution_count": 5,
   "id": "8f67c947",
   "metadata": {},
   "outputs": [],
   "source": [
    "train = train.fillna(\"\")\n",
    "train['new_text'] = train['keyword'] + \" \" + train['location'] + \" \" + train['text']\n",
    "\n",
    "test = test.fillna(\"\")\n",
    "test['new_text'] = test['keyword'] + \" \" + test['location'] + \" \" + test['text']"
   ]
  },
  {
   "cell_type": "code",
   "execution_count": 6,
   "id": "5a8a9073",
   "metadata": {},
   "outputs": [
    {
     "name": "stdout",
     "output_type": "stream",
     "text": [
      "Size of train dataset: (7613, 6)\n",
      "Size of test dataset: (3263, 5)\n"
     ]
    }
   ],
   "source": [
    "print(\"Size of train dataset: \" + str(train.shape))\n",
    "print(\"Size of test dataset: \" + str(test.shape))"
   ]
  },
  {
   "cell_type": "markdown",
   "id": "4fecfa70",
   "metadata": {},
   "source": [
    "### Use GPU if its available"
   ]
  },
  {
   "cell_type": "code",
   "execution_count": 7,
   "id": "d29c1aa8",
   "metadata": {},
   "outputs": [
    {
     "name": "stdout",
     "output_type": "stream",
     "text": [
      "There are 1 GPU(s) available\n",
      "We will use the GPU: NVIDIA GeForce RTX 3070 Ti\n"
     ]
    }
   ],
   "source": [
    "if torch.cuda.is_available():\n",
    "    device = torch.device(\"cuda\")\n",
    "    \n",
    "    print(\"There are %d GPU(s) available\" % torch.cuda.device_count())\n",
    "    print(\"We will use the GPU:\", torch.cuda.get_device_name(0))\n",
    "else:\n",
    "    print(\"No GPU Available, using CPU instead\")"
   ]
  },
  {
   "cell_type": "markdown",
   "id": "1b56ba40",
   "metadata": {},
   "source": [
    "### Loop to remove noise from tweets"
   ]
  },
  {
   "cell_type": "code",
   "execution_count": 8,
   "id": "75a870f1",
   "metadata": {},
   "outputs": [],
   "source": [
    "def remove_noise(df):\n",
    "    df = df.copy()\n",
    "    new_tweets = []\n",
    "    for text in df['new_text']:\n",
    "        # it will remove the old style retweet text \"RT\"\n",
    "        new_text = re.sub(r'\\w+:\\/{2}[\\d\\w-]+(\\.[\\d\\w-]+)*(?:(?:\\/[^\\s/]*))*', '', text)\n",
    "\n",
    "        # it will remove hyperlinks\n",
    "        new_text = re.sub(r'https?:\\/\\/.*[\\r\\n]*', '', new_text)\n",
    "\n",
    "        # it will remove hashtags. We have to be careful here not to remove \n",
    "        # the whole hashtag because text of hashtags contains huge information. \n",
    "        # only removing the hash # sign from the word\n",
    "        # tweet2 = re.sub(r'#', '', tweet2)\n",
    "        new_text = ''.join([c for c in new_text if ord(c) < 128])\n",
    "\n",
    "        # it will remove single numeric terms in the tweet. \n",
    "#         new_text = re.sub(r'[0-9]', '', new_text) # does temporal information matter to bert? lets test it out\n",
    "#         print('\\nAfter removing old style tweet, hyperlinks and # sign')\n",
    "        new_tweets.append(new_text)\n",
    "    \n",
    "    df['new_text'] = new_tweets\n",
    "    return df"
   ]
  },
  {
   "cell_type": "code",
   "execution_count": 9,
   "id": "764386be",
   "metadata": {},
   "outputs": [],
   "source": [
    "new_train = train.copy()\n",
    "new_train = remove_noise(new_train)"
   ]
  },
  {
   "cell_type": "code",
   "execution_count": 10,
   "id": "9633b48d",
   "metadata": {},
   "outputs": [
    {
     "data": {
      "text/plain": [
       "\"apocalypse Elk Grove, CA, USA Another hour! It's August 05 2015 at 08:02PM Here's Red Rover Zombie Apocalypse 2014!  #internetradio #collegeradi_\""
      ]
     },
     "execution_count": 10,
     "metadata": {},
     "output_type": "execute_result"
    }
   ],
   "source": [
    "new_train[new_train['id'] == 404]['new_text'].values[0]"
   ]
  },
  {
   "cell_type": "code",
   "execution_count": 11,
   "id": "b05a4c45",
   "metadata": {},
   "outputs": [
    {
     "data": {
      "text/plain": [
       "\"apocalypse Elk Grove, CA, USA Another hour! It's August 05 2015 at 08:02PM Here's Red Rover Zombie Apocalypse 2014! http://t.co/cf9e6TU3g7 #internetradio #collegeradi\\x89Û_\""
      ]
     },
     "execution_count": 11,
     "metadata": {},
     "output_type": "execute_result"
    }
   ],
   "source": [
    "train[train['id'] == 404]['new_text'].values[0]"
   ]
  },
  {
   "cell_type": "code",
   "execution_count": 12,
   "id": "8ee67550",
   "metadata": {},
   "outputs": [],
   "source": [
    "# tweet = train[train['id'] == 219]['text'].values[0]\n",
    "# tweet"
   ]
  },
  {
   "cell_type": "code",
   "execution_count": 13,
   "id": "878a80b6",
   "metadata": {},
   "outputs": [],
   "source": [
    "# # it will remove the old style retweet text \"RT\"\n",
    "# tweet2 = re.sub(r'^RT[\\s]+', '', tweet)\n",
    "\n",
    "# # it will remove hyperlinks\n",
    "# tweet2 = re.sub(r'https?:\\/\\/.*[\\r\\n]*', '', tweet2)\n",
    "\n",
    "# # it will remove hashtags. We have to be careful here not to remove \n",
    "# # the whole hashtag because text of hashtags contains huge information. \n",
    "# # only removing the hash # sign from the word\n",
    "# # tweet2 = re.sub(r'#', '', tweet2)\n",
    "# tweet2 = ''.join([c for c in tweet2 if ord(c) < 128])\n",
    "\n",
    "# # it will remove single numeric terms in the tweet. \n",
    "# tweet2 = re.sub(r'[0-9]', '', tweet2) # does temporal information matter to bert? lets test it out\n",
    "# print('\\nAfter removing old style tweet, hyperlinks and # sign')\n",
    "# tweet2"
   ]
  },
  {
   "cell_type": "markdown",
   "id": "6c913109",
   "metadata": {},
   "source": [
    "### Initialize tokenizer and finding the average length of tokens for train and test sets"
   ]
  },
  {
   "cell_type": "code",
   "execution_count": 14,
   "id": "2ed70a52",
   "metadata": {},
   "outputs": [],
   "source": [
    "from transformers import BertTokenizer\n",
    "tokenizer = BertTokenizer.from_pretrained('bert-base-uncased', do_lower_case = True)"
   ]
  },
  {
   "cell_type": "code",
   "execution_count": 15,
   "id": "addf2e06",
   "metadata": {},
   "outputs": [
    {
     "name": "stdout",
     "output_type": "stream",
     "text": [
      "Train\n",
      "Min Length: 4\n",
      "Median Length: 28.0\n",
      "Max Length: 93\n",
      "\n",
      "Test\n",
      "Min Length: 4\n",
      "Median Length: 38.0\n",
      "Max Length: 82\n"
     ]
    }
   ],
   "source": [
    "train_inputs = []\n",
    "test_inputs = []\n",
    "train_length = []\n",
    "test_length = []\n",
    "\n",
    "# for sentence in train['text']:\n",
    "for sentence in new_train['new_text']:\n",
    "    encoded_sentence = tokenizer.encode(sentence, add_special_tokens = True)\n",
    "    train_inputs.append(encoded_sentence)\n",
    "    train_length.append(len(encoded_sentence))\n",
    "\n",
    "for sentence in test['new_text']:\n",
    "    encoded_sentence = tokenizer.encode(sentence, add_special_tokens = True)\n",
    "    test_inputs.append(encoded_sentence)\n",
    "    test_length.append(len(encoded_sentence))\n",
    "\n",
    "print(\"Train\")\n",
    "print(\"Min Length:\", min(train_length))\n",
    "print(\"Median Length:\", np.median(train_length))\n",
    "print(\"Max Length:\", max(train_length))\n",
    "print(\"\")\n",
    "\n",
    "print(\"Test\")\n",
    "print(\"Min Length:\", min(test_length))\n",
    "print(\"Median Length:\", np.median(test_length))\n",
    "print(\"Max Length:\", max(test_length))"
   ]
  },
  {
   "cell_type": "code",
   "execution_count": 16,
   "id": "2b558019",
   "metadata": {},
   "outputs": [
    {
     "name": "stderr",
     "output_type": "stream",
     "text": [
      "C:\\Users\\Doubl\\Desktop\\Projects\\nlp\\disaster_tweets\\lib\\site-packages\\seaborn\\distributions.py:2619: FutureWarning: `distplot` is a deprecated function and will be removed in a future version. Please adapt your code to use either `displot` (a figure-level function with similar flexibility) or `histplot` (an axes-level function for histograms).\n",
      "  warnings.warn(msg, FutureWarning)\n"
     ]
    },
    {
     "data": {
      "text/plain": [
       "<AxesSubplot:ylabel='Density'>"
      ]
     },
     "execution_count": 16,
     "metadata": {},
     "output_type": "execute_result"
    },
    {
     "data": {
      "image/png": "[encoded data removed]",
      "text/plain": [
       "<Figure size 432x288 with 1 Axes>"
      ]
     },
     "metadata": {
      "needs_background": "light"
     },
     "output_type": "display_data"
    }
   ],
   "source": [
    "sns.distplot(train_length)"
   ]
  },
  {
   "cell_type": "code",
   "execution_count": 17,
   "id": "6db89c03",
   "metadata": {},
   "outputs": [
    {
     "name": "stderr",
     "output_type": "stream",
     "text": [
      "C:\\Users\\Doubl\\Desktop\\Projects\\nlp\\disaster_tweets\\lib\\site-packages\\seaborn\\distributions.py:2619: FutureWarning: `distplot` is a deprecated function and will be removed in a future version. Please adapt your code to use either `displot` (a figure-level function with similar flexibility) or `histplot` (an axes-level function for histograms).\n",
      "  warnings.warn(msg, FutureWarning)\n"
     ]
    },
    {
     "data": {
      "text/plain": [
       "<AxesSubplot:ylabel='Density'>"
      ]
     },
     "execution_count": 17,
     "metadata": {},
     "output_type": "execute_result"
    },
    {
     "data": {
      "image/png": "[encoded data removed]",
      "text/plain": [
       "<Figure size 432x288 with 1 Axes>"
      ]
     },
     "metadata": {
      "needs_background": "light"
     },
     "output_type": "display_data"
    }
   ],
   "source": [
    "sns.distplot(test_length)"
   ]
  },
  {
   "cell_type": "code",
   "execution_count": 18,
   "id": "b12b5352",
   "metadata": {},
   "outputs": [],
   "source": [
    "MAX_LEN = 90"
   ]
  },
  {
   "cell_type": "markdown",
   "id": "290f7ed7",
   "metadata": {},
   "source": [
    "### Distribution of disaster to non-disaster tweets"
   ]
  },
  {
   "cell_type": "code",
   "execution_count": 19,
   "id": "7ab18195",
   "metadata": {},
   "outputs": [
    {
     "name": "stdout",
     "output_type": "stream",
     "text": [
      "Number of disaster tweets: 3271\n",
      "Number of non-disaster tweets: 4342\n",
      "Percentage of disaster to non-disaster tweets: 0.43\n"
     ]
    }
   ],
   "source": [
    "labels = new_train['target']\n",
    "print(\"Number of disaster tweets: \" + str(len(train[train['target'] == 1]['target'])))\n",
    "print(\"Number of non-disaster tweets: \" + str(len(train[train['target'] == 0]['target'])))\n",
    "print(\"Percentage of disaster to non-disaster tweets: \" + str(round(len(train[train['target'] == 1]['target']) / len(train['target']), 2)))"
   ]
  },
  {
   "cell_type": "code",
   "execution_count": 20,
   "id": "b5d0c944",
   "metadata": {},
   "outputs": [],
   "source": [
    "X = new_train.drop(columns = ['target'])\n",
    "y = new_train['target']\n",
    "SEED = 2022\n",
    "\n",
    "X_train, X_val, y_train, y_val = train_test_split(X, y, test_size = 0.2, random_state = SEED)"
   ]
  },
  {
   "cell_type": "code",
   "execution_count": 21,
   "id": "c304a7f0",
   "metadata": {},
   "outputs": [
    {
     "name": "stdout",
     "output_type": "stream",
     "text": [
      "Shape of training data: (6090, 5)\n",
      "Shape of validation data: (1523, 5)\n"
     ]
    }
   ],
   "source": [
    "print(\"Shape of training data:\", str(X_train.shape))\n",
    "print(\"Shape of validation data:\", str(X_val.shape))"
   ]
  },
  {
   "cell_type": "markdown",
   "id": "b267f752",
   "metadata": {},
   "source": [
    "### Preprocess the data into input_ids and attention masks "
   ]
  },
  {
   "cell_type": "code",
   "execution_count": 22,
   "id": "ca203726",
   "metadata": {},
   "outputs": [],
   "source": [
    "from keras.preprocessing.sequence import pad_sequences\n",
    "\n",
    "def process_data(df, max_length):\n",
    "    input_ids = []\n",
    "    attention_masks = []\n",
    "    \n",
    "    for sentence in df['new_text']:\n",
    "        encoded_sentence = tokenizer.encode(sentence, add_special_tokens = True)\n",
    "        input_ids.append(encoded_sentence)\n",
    "        \n",
    "    input_ids = pad_sequences(input_ids, maxlen = max_length, dtype = 'long', value = 0, \n",
    "                             truncating = 'post', padding = 'post')\n",
    "    \n",
    "    for sentence in input_ids:\n",
    "        attention_masks.append([1 if id > 0 else 0 for id in sentence])\n",
    "                                \n",
    "    return input_ids, np.array(attention_masks, dtype = np.int64)"
   ]
  },
  {
   "cell_type": "code",
   "execution_count": 23,
   "id": "dcf8a707",
   "metadata": {},
   "outputs": [],
   "source": [
    "train_inputs, train_attn_masks = process_data(X_train, MAX_LEN)\n",
    "val_inputs, val_attn_masks = process_data(X_val, MAX_LEN)\n",
    "test_inputs, test_attn_masks = process_data(test, MAX_LEN)"
   ]
  },
  {
   "cell_type": "code",
   "execution_count": 24,
   "id": "576bac10",
   "metadata": {},
   "outputs": [
    {
     "name": "stdout",
     "output_type": "stream",
     "text": [
      "Train input size:  (6090, 90)\n",
      "Validation input size:  (1523, 90)\n",
      "Test input size:  (3263, 90)\n"
     ]
    }
   ],
   "source": [
    "print(\"Train input size: \", str(train_inputs.shape))\n",
    "print(\"Validation input size: \", str(val_inputs.shape))\n",
    "print(\"Test input size: \", str(test_inputs.shape))"
   ]
  },
  {
   "cell_type": "markdown",
   "id": "5b7f2d5d",
   "metadata": {},
   "source": [
    "### Convert to numpy int64, then into pytorch tensors"
   ]
  },
  {
   "cell_type": "code",
   "execution_count": 25,
   "id": "37057c57",
   "metadata": {},
   "outputs": [],
   "source": [
    "train_inputs = train_inputs.astype(np.int64)\n",
    "val_inputs = val_inputs.astype(np.int64)\n",
    "test_inputs = test_inputs.astype(np.int64)\n",
    "\n",
    "train_labels = np.array(y_train, dtype = np.int64)\n",
    "val_labels = np.array(y_val, dtype = np.int64)"
   ]
  },
  {
   "cell_type": "code",
   "execution_count": 26,
   "id": "e9416fe0",
   "metadata": {},
   "outputs": [],
   "source": [
    "train_inputs = torch.tensor(train_inputs)\n",
    "train_labels = torch.tensor(train_labels)\n",
    "train_masks = torch.tensor(train_attn_masks)\n",
    "\n",
    "val_inputs = torch.tensor(val_inputs)\n",
    "val_labels = torch.tensor(val_labels)\n",
    "val_masks = torch.tensor(val_attn_masks)\n",
    "\n",
    "test_inputs = torch.tensor(test_inputs)\n",
    "test_masks = torch.tensor(test_attn_masks)"
   ]
  },
  {
   "cell_type": "markdown",
   "id": "aec78965",
   "metadata": {},
   "source": [
    "### Batch the data into DataLoaders"
   ]
  },
  {
   "cell_type": "code",
   "execution_count": 27,
   "id": "e26d5d12",
   "metadata": {},
   "outputs": [],
   "source": [
    "from torch.utils.data import TensorDataset, DataLoader, RandomSampler, SequentialSampler\n",
    "\n",
    "batch_size = 16\n",
    "\n",
    "train_data = TensorDataset(train_inputs, train_masks, train_labels)\n",
    "train_sampler = RandomSampler(train_data)\n",
    "train_dataloader = DataLoader(train_data, sampler = train_sampler, batch_size = batch_size)\n",
    "\n",
    "val_data = TensorDataset(val_inputs, val_masks, val_labels)\n",
    "val_sampler = RandomSampler(val_data)\n",
    "val_dataloader = DataLoader(val_data, sampler = val_sampler, batch_size = batch_size)"
   ]
  },
  {
   "cell_type": "markdown",
   "id": "a70e842a",
   "metadata": {},
   "source": [
    "### Initializing the model, optimizer and scheduler"
   ]
  },
  {
   "cell_type": "code",
   "execution_count": 28,
   "id": "45f47b12",
   "metadata": {},
   "outputs": [
    {
     "name": "stderr",
     "output_type": "stream",
     "text": [
      "Some weights of the model checkpoint at bert-base-uncased were not used when initializing BertForSequenceClassification: ['cls.seq_relationship.weight', 'cls.predictions.transform.dense.weight', 'cls.predictions.decoder.weight', 'cls.predictions.transform.dense.bias', 'cls.seq_relationship.bias', 'cls.predictions.transform.LayerNorm.weight', 'cls.predictions.bias', 'cls.predictions.transform.LayerNorm.bias']\n",
      "- This IS expected if you are initializing BertForSequenceClassification from the checkpoint of a model trained on another task or with another architecture (e.g. initializing a BertForSequenceClassification model from a BertForPreTraining model).\n",
      "- This IS NOT expected if you are initializing BertForSequenceClassification from the checkpoint of a model that you expect to be exactly identical (initializing a BertForSequenceClassification model from a BertForSequenceClassification model).\n",
      "Some weights of BertForSequenceClassification were not initialized from the model checkpoint at bert-base-uncased and are newly initialized: ['classifier.bias', 'classifier.weight']\n",
      "You should probably TRAIN this model on a down-stream task to be able to use it for predictions and inference.\n"
     ]
    }
   ],
   "source": [
    "from transformers import BertForSequenceClassification, AdamW, BertConfig\n",
    "\n",
    "model = BertForSequenceClassification.from_pretrained(\n",
    "    'bert-base-uncased',\n",
    "    num_labels = 2,\n",
    "    output_attentions = False,\n",
    "    output_hidden_states = False\n",
    ")"
   ]
  },
  {
   "cell_type": "code",
   "execution_count": 29,
   "id": "99b96bbd",
   "metadata": {},
   "outputs": [],
   "source": [
    "model.cuda()\n",
    "model.to(device)\n",
    "\n",
    "optimizer = AdamW(\n",
    "    model.parameters(),\n",
    "    lr = 2e-5,\n",
    "    eps = 1e-8\n",
    ")"
   ]
  },
  {
   "cell_type": "code",
   "execution_count": 30,
   "id": "44192ceb",
   "metadata": {},
   "outputs": [],
   "source": [
    "from transformers import get_linear_schedule_with_warmup\n",
    "\n",
    "epochs = 15\n",
    "total_steps = len(train_dataloader) * epochs\n",
    "scheduler = get_linear_schedule_with_warmup(\n",
    "    optimizer,\n",
    "    num_warmup_steps = 0, # default value in run glue.py\n",
    "    num_training_steps = total_steps\n",
    ")"
   ]
  },
  {
   "cell_type": "markdown",
   "id": "1dc71dba",
   "metadata": {},
   "source": [
    "### Training Loop"
   ]
  },
  {
   "cell_type": "code",
   "execution_count": 31,
   "id": "d1a15236",
   "metadata": {},
   "outputs": [],
   "source": [
    "def flat_accuracy(preds, labels):\n",
    "    pred_flat = np.argmax(preds, axis = 1).flatten()\n",
    "    labels_flat = labels.flatten()\n",
    "    return np.sum(pred_flat == labels_flat) / len(labels_flat)"
   ]
  },
  {
   "cell_type": "code",
   "execution_count": 32,
   "id": "3e2e2bbe",
   "metadata": {},
   "outputs": [],
   "source": [
    "def format_time(elapsed):\n",
    "    elapsed_rounded = int(round((elapsed)))\n",
    "    return str(datetime.timedelta(seconds = elapsed_rounded))"
   ]
  },
  {
   "cell_type": "code",
   "execution_count": 33,
   "id": "78192195",
   "metadata": {
    "scrolled": true
   },
   "outputs": [
    {
     "name": "stdout",
     "output_type": "stream",
     "text": [
      "Epoch 0 / 15\n",
      "Training...\n",
      "Batch   100 of   381. Elapsed: 0:00:13\n",
      "Batch   200 of   381. Elapsed: 0:00:24\n",
      "Batch   300 of   381. Elapsed: 0:00:35\n",
      "\n",
      "Training Accuracy: 0.79075\n",
      "Average training loss: 0.45775\n",
      "Training epoch took: 0:00:44\n",
      "\n",
      "Running Validation\n",
      "\n",
      "Accuracy: 0.83572\n",
      "Validation took: 0:00:03\n",
      "\n",
      "Epoch 1 / 15\n",
      "Training...\n",
      "Batch   100 of   381. Elapsed: 0:00:11\n",
      "Batch   200 of   381. Elapsed: 0:00:23\n",
      "Batch   300 of   381. Elapsed: 0:00:34\n",
      "\n",
      "Training Accuracy: 0.87589\n",
      "Average training loss: 0.32530\n",
      "Training epoch took: 0:00:43\n",
      "\n",
      "Running Validation\n",
      "\n",
      "Accuracy: 0.84679\n",
      "Validation took: 0:00:03\n",
      "\n",
      "Epoch 2 / 15\n",
      "Training...\n",
      "Batch   100 of   381. Elapsed: 0:00:11\n",
      "Batch   200 of   381. Elapsed: 0:00:22\n",
      "Batch   300 of   381. Elapsed: 0:00:33\n",
      "\n",
      "Training Accuracy: 0.92100\n",
      "Average training loss: 0.23399\n",
      "Training epoch took: 0:00:42\n",
      "\n",
      "Running Validation\n",
      "\n",
      "Accuracy: 0.83485\n",
      "Validation took: 0:00:03\n",
      "\n",
      "Epoch 3 / 15\n",
      "Training...\n",
      "Batch   100 of   381. Elapsed: 0:00:11\n",
      "Batch   200 of   381. Elapsed: 0:00:23\n",
      "Batch   300 of   381. Elapsed: 0:00:34\n",
      "\n",
      "Training Accuracy: 0.94455\n",
      "Average training loss: 0.17289\n",
      "Training epoch took: 0:00:44\n",
      "\n",
      "Running Validation\n",
      "\n",
      "Accuracy: 0.84049\n",
      "Validation took: 0:00:03\n",
      "\n",
      "Epoch 4 / 15\n",
      "Training...\n",
      "Batch   100 of   381. Elapsed: 0:00:11\n",
      "Batch   200 of   381. Elapsed: 0:00:23\n",
      "Batch   300 of   381. Elapsed: 0:00:34\n",
      "\n",
      "Training Accuracy: 0.96030\n",
      "Average training loss: 0.12935\n",
      "Training epoch took: 0:00:43\n",
      "\n",
      "Running Validation\n",
      "\n",
      "Accuracy: 0.79492\n",
      "Validation took: 0:00:03\n",
      "\n",
      "Epoch 5 / 15\n",
      "Training...\n",
      "Batch   100 of   381. Elapsed: 0:00:11\n",
      "Batch   200 of   381. Elapsed: 0:00:22\n",
      "Batch   300 of   381. Elapsed: 0:00:33\n",
      "\n",
      "Training Accuracy: 0.97293\n",
      "Average training loss: 0.08840\n",
      "Training epoch took: 0:00:42\n",
      "\n",
      "Running Validation\n",
      "\n",
      "Accuracy: 0.81793\n",
      "Validation took: 0:00:03\n",
      "\n",
      "Epoch 6 / 15\n",
      "Training...\n",
      "Batch   100 of   381. Elapsed: 0:00:11\n",
      "Batch   200 of   381. Elapsed: 0:00:23\n",
      "Batch   300 of   381. Elapsed: 0:00:34\n",
      "\n",
      "Training Accuracy: 0.97917\n",
      "Average training loss: 0.06987\n",
      "Training epoch took: 0:00:44\n",
      "\n",
      "Running Validation\n",
      "\n",
      "Accuracy: 0.81793\n",
      "Validation took: 0:00:03\n",
      "\n",
      "Epoch 7 / 15\n",
      "Training...\n",
      "Batch   100 of   381. Elapsed: 0:00:12\n",
      "Batch   200 of   381. Elapsed: 0:00:23\n",
      "Batch   300 of   381. Elapsed: 0:00:34\n",
      "\n",
      "Training Accuracy: 0.98442\n",
      "Average training loss: 0.05298\n",
      "Training epoch took: 0:00:43\n",
      "\n",
      "Running Validation\n",
      "\n",
      "Accuracy: 0.82205\n",
      "Validation took: 0:00:03\n",
      "\n",
      "Epoch 8 / 15\n",
      "Training...\n",
      "Batch   100 of   381. Elapsed: 0:00:11\n",
      "Batch   200 of   381. Elapsed: 0:00:22\n",
      "Batch   300 of   381. Elapsed: 0:00:33\n",
      "\n",
      "Training Accuracy: 0.98524\n",
      "Average training loss: 0.05201\n",
      "Training epoch took: 0:00:42\n",
      "\n",
      "Running Validation\n",
      "\n",
      "Accuracy: 0.80794\n",
      "Validation took: 0:00:03\n",
      "\n",
      "Epoch 9 / 15\n",
      "Training...\n",
      "Batch   100 of   381. Elapsed: 0:00:12\n",
      "Batch   200 of   381. Elapsed: 0:00:23\n",
      "Batch   300 of   381. Elapsed: 0:00:35\n",
      "\n",
      "Training Accuracy: 0.98802\n",
      "Average training loss: 0.03504\n",
      "Training epoch took: 0:00:44\n",
      "\n",
      "Running Validation\n",
      "\n",
      "Accuracy: 0.83051\n",
      "Validation took: 0:00:03\n",
      "\n",
      "Epoch 10 / 15\n",
      "Training...\n",
      "Batch   100 of   381. Elapsed: 0:00:11\n",
      "Batch   200 of   381. Elapsed: 0:00:22\n",
      "Batch   300 of   381. Elapsed: 0:00:33\n",
      "\n",
      "Training Accuracy: 0.99032\n",
      "Average training loss: 0.02939\n",
      "Training epoch took: 0:00:42\n",
      "\n",
      "Running Validation\n",
      "\n",
      "Accuracy: 0.81684\n",
      "Validation took: 0:00:03\n",
      "\n",
      "Epoch 11 / 15\n",
      "Training...\n",
      "Batch   100 of   381. Elapsed: 0:00:11\n",
      "Batch   200 of   381. Elapsed: 0:00:22\n",
      "Batch   300 of   381. Elapsed: 0:00:33\n",
      "\n",
      "Training Accuracy: 0.99262\n",
      "Average training loss: 0.02160\n",
      "Training epoch took: 0:00:42\n",
      "\n",
      "Running Validation\n",
      "\n",
      "Accuracy: 0.81944\n",
      "Validation took: 0:00:03\n",
      "\n",
      "Epoch 12 / 15\n",
      "Training...\n",
      "Batch   100 of   381. Elapsed: 0:00:12\n",
      "Batch   200 of   381. Elapsed: 0:00:23\n",
      "Batch   300 of   381. Elapsed: 0:00:35\n",
      "\n",
      "Training Accuracy: 0.99360\n",
      "Average training loss: 0.01961\n",
      "Training epoch took: 0:00:44\n",
      "\n",
      "Running Validation\n",
      "\n",
      "Accuracy: 0.82552\n",
      "Validation took: 0:00:03\n",
      "\n",
      "Epoch 13 / 15\n",
      "Training...\n",
      "Batch   100 of   381. Elapsed: 0:00:11\n",
      "Batch   200 of   381. Elapsed: 0:00:22\n",
      "Batch   300 of   381. Elapsed: 0:00:33\n",
      "\n",
      "Training Accuracy: 0.99383\n",
      "Average training loss: 0.01845\n",
      "Training epoch took: 0:00:42\n",
      "\n",
      "Running Validation\n",
      "\n",
      "Accuracy: 0.80751\n",
      "Validation took: 0:00:03\n",
      "\n",
      "Epoch 14 / 15\n",
      "Training...\n",
      "Batch   100 of   381. Elapsed: 0:00:11\n",
      "Batch   200 of   381. Elapsed: 0:00:23\n",
      "Batch   300 of   381. Elapsed: 0:00:34\n",
      "\n",
      "Training Accuracy: 0.99475\n",
      "Average training loss: 0.01420\n",
      "Training epoch took: 0:00:43\n",
      "\n",
      "Running Validation\n",
      "\n",
      "Accuracy: 0.81684\n",
      "Validation took: 0:00:03\n",
      "\n",
      "Training Complete\n"
     ]
    }
   ],
   "source": [
    "random.seed(SEED)\n",
    "np.random.seed(SEED)\n",
    "torch.manual_seed(SEED)\n",
    "torch.cuda.manual_seed_all(SEED)\n",
    "\n",
    "train_acc = []\n",
    "val_acc = []\n",
    "train_losses=[]\n",
    "\n",
    "for epoch in range(0, epochs):\n",
    "    print(\"Epoch {:} / {:}\".format(epoch, epochs))\n",
    "    print(\"Training...\")\n",
    "    \n",
    "    t0 = time.time()\n",
    "    total_loss = 0\n",
    "    train_accuracy, nb_train_steps = 0, 0\n",
    "    \n",
    "    model.train()\n",
    "    \n",
    "    for step, batch in enumerate(train_dataloader):\n",
    "        if step % 100 == 0 and not step == 0:\n",
    "            elapsed = format_time(time.time() - t0)\n",
    "            print(\"Batch {:>5,} of {:>5,}. Elapsed: {:}\".format(step, len(train_dataloader), elapsed))\n",
    "            \n",
    "        batch = tuple(t.to(device) for t in batch)\n",
    "        batch_input_ids, batch_input_masks, batch_labels = batch\n",
    "\n",
    "        model.zero_grad()\n",
    "\n",
    "        outputs = model(batch_input_ids, token_type_ids = None, attention_mask = batch_input_masks,\n",
    "                       labels = batch_labels)\n",
    "\n",
    "        loss = outputs[0]\n",
    "        total_loss += loss.item()\n",
    "        \n",
    "        logits = outputs['logits']\n",
    "\n",
    "        logits = logits.detach().cpu().numpy()\n",
    "        label_ids = batch_labels.to('cpu').numpy()\n",
    "        \n",
    "        tmp_train_accuracy = flat_accuracy(logits, label_ids)\n",
    "        train_accuracy += tmp_train_accuracy\n",
    "        \n",
    "        nb_train_steps += 1\n",
    "\n",
    "        loss.backward()\n",
    "        torch.nn.utils.clip_grad_norm_(model.parameters(), 1.0)\n",
    "        optimizer.step()\n",
    "        scheduler.step()\n",
    "\n",
    "    average_train_loss = total_loss / len(train_dataloader)\n",
    "    train_losses.append(average_train_loss)\n",
    "    train_accuracy = train_accuracy / nb_train_steps\n",
    "    train_acc.append(train_accuracy)\n",
    "    \n",
    "    print(\"\")\n",
    "    print(\"Training Accuracy: {0:.5f}\".format(train_accuracy))\n",
    "    print(\"Average training loss: {0:.5f}\".format(average_train_loss))\n",
    "    print(\"Training epoch took: {:}\".format(format_time(time.time() - t0)))\n",
    "    \n",
    "    print(\"\")\n",
    "    print(\"Running Validation\")\n",
    "    t0 = time.time()\n",
    "    model.eval()\n",
    "    eval_loss, eval_accuracy = 0, 0\n",
    "    nb_eval_steps, nb_eval_examples = 0, 0\n",
    "\n",
    "    for batch in val_dataloader:\n",
    "        batch = tuple(t.to(device) for t in batch)\n",
    "        batch_input_ids, batch_input_masks, batch_labels = batch\n",
    "        \n",
    "        with torch.no_grad():\n",
    "            outputs = model(batch_input_ids, token_type_ids = None, \n",
    "                            attention_mask = batch_input_masks)\n",
    "        \n",
    "        logits = outputs['logits']\n",
    "#         print(logits)\n",
    "#         print(logits.shape)\n",
    "        \n",
    "        logits = logits.detach().cpu().numpy()\n",
    "        label_ids = batch_labels.to('cpu').numpy()\n",
    "        \n",
    "        tmp_eval_accuracy = flat_accuracy(logits, label_ids)\n",
    "        eval_accuracy += tmp_eval_accuracy\n",
    "        \n",
    "        nb_eval_steps += 1\n",
    "    \n",
    "    val_accuracy = eval_accuracy / nb_eval_steps\n",
    "    val_acc.append(val_accuracy)\n",
    "    \n",
    "    print(\"\")\n",
    "    print(\"Accuracy: {0:.5f}\".format(val_accuracy))\n",
    "    print(\"Validation took: {:}\".format(format_time(time.time() - t0)))\n",
    "    print(\"\")\n",
    "\n",
    "print(\"Training Complete\")"
   ]
  },
  {
   "cell_type": "code",
   "execution_count": 34,
   "id": "8ec0441b",
   "metadata": {},
   "outputs": [
    {
     "data": {
      "image/png": "[encoded data removed]",
      "text/plain": [
       "<Figure size 864x432 with 1 Axes>"
      ]
     },
     "metadata": {},
     "output_type": "display_data"
    }
   ],
   "source": [
    "sns.set(style='darkgrid')\n",
    "sns.set(font_scale = 1.5)\n",
    "plt.rcParams['figure.figsize'] = (12,6)\n",
    "plt.plot(train_losses, 'b-o')\n",
    "plt.title(\"Training Loss\")\n",
    "plt.xlabel(\"Epoch\")\n",
    "plt.ylabel(\"Loss\")\n",
    "\n",
    "plt.show()"
   ]
  },
  {
   "cell_type": "code",
   "execution_count": 35,
   "id": "b633e580",
   "metadata": {},
   "outputs": [],
   "source": [
    "r_dict = {\n",
    "    \"train_accuracy\": train_acc,\n",
    "    \"train_loss\": train_losses,\n",
    "    \"val_accuracy\": val_acc\n",
    "}"
   ]
  },
  {
   "cell_type": "code",
   "execution_count": 36,
   "id": "d1197f75",
   "metadata": {},
   "outputs": [
    {
     "data": {
      "text/html": [
       "<div>\n",
       "<style scoped>\n",
       "    .dataframe tbody tr th:only-of-type {\n",
       "        vertical-align: middle;\n",
       "    }\n",
       "\n",
       "    .dataframe tbody tr th {\n",
       "        vertical-align: top;\n",
       "    }\n",
       "\n",
       "    .dataframe thead th {\n",
       "        text-align: right;\n",
       "    }\n",
       "</style>\n",
       "<table border=\"1\" class=\"dataframe\">\n",
       "  <thead>\n",
       "    <tr style=\"text-align: right;\">\n",
       "      <th></th>\n",
       "      <th>train_accuracy</th>\n",
       "      <th>train_loss</th>\n",
       "      <th>val_accuracy</th>\n",
       "    </tr>\n",
       "  </thead>\n",
       "  <tbody>\n",
       "    <tr>\n",
       "      <th>0</th>\n",
       "      <td>0.790748</td>\n",
       "      <td>0.457754</td>\n",
       "      <td>0.835720</td>\n",
       "    </tr>\n",
       "    <tr>\n",
       "      <th>1</th>\n",
       "      <td>0.875886</td>\n",
       "      <td>0.325304</td>\n",
       "      <td>0.846788</td>\n",
       "    </tr>\n",
       "    <tr>\n",
       "      <th>2</th>\n",
       "      <td>0.920997</td>\n",
       "      <td>0.233993</td>\n",
       "      <td>0.834852</td>\n",
       "    </tr>\n",
       "    <tr>\n",
       "      <th>3</th>\n",
       "      <td>0.944554</td>\n",
       "      <td>0.172894</td>\n",
       "      <td>0.840495</td>\n",
       "    </tr>\n",
       "    <tr>\n",
       "      <th>4</th>\n",
       "      <td>0.960302</td>\n",
       "      <td>0.129348</td>\n",
       "      <td>0.794922</td>\n",
       "    </tr>\n",
       "    <tr>\n",
       "      <th>5</th>\n",
       "      <td>0.972933</td>\n",
       "      <td>0.088399</td>\n",
       "      <td>0.817925</td>\n",
       "    </tr>\n",
       "    <tr>\n",
       "      <th>6</th>\n",
       "      <td>0.979167</td>\n",
       "      <td>0.069872</td>\n",
       "      <td>0.817925</td>\n",
       "    </tr>\n",
       "    <tr>\n",
       "      <th>7</th>\n",
       "      <td>0.984416</td>\n",
       "      <td>0.052981</td>\n",
       "      <td>0.822049</td>\n",
       "    </tr>\n",
       "    <tr>\n",
       "      <th>8</th>\n",
       "      <td>0.985236</td>\n",
       "      <td>0.052007</td>\n",
       "      <td>0.807943</td>\n",
       "    </tr>\n",
       "    <tr>\n",
       "      <th>9</th>\n",
       "      <td>0.988025</td>\n",
       "      <td>0.035039</td>\n",
       "      <td>0.830512</td>\n",
       "    </tr>\n",
       "    <tr>\n",
       "      <th>10</th>\n",
       "      <td>0.990322</td>\n",
       "      <td>0.029388</td>\n",
       "      <td>0.816840</td>\n",
       "    </tr>\n",
       "    <tr>\n",
       "      <th>11</th>\n",
       "      <td>0.992618</td>\n",
       "      <td>0.021596</td>\n",
       "      <td>0.819444</td>\n",
       "    </tr>\n",
       "    <tr>\n",
       "      <th>12</th>\n",
       "      <td>0.993602</td>\n",
       "      <td>0.019608</td>\n",
       "      <td>0.825521</td>\n",
       "    </tr>\n",
       "    <tr>\n",
       "      <th>13</th>\n",
       "      <td>0.993832</td>\n",
       "      <td>0.018448</td>\n",
       "      <td>0.807509</td>\n",
       "    </tr>\n",
       "    <tr>\n",
       "      <th>14</th>\n",
       "      <td>0.994751</td>\n",
       "      <td>0.014203</td>\n",
       "      <td>0.816840</td>\n",
       "    </tr>\n",
       "  </tbody>\n",
       "</table>\n",
       "</div>"
      ],
      "text/plain": [
       "    train_accuracy  train_loss  val_accuracy\n",
       "0         0.790748    0.457754      0.835720\n",
       "1         0.875886    0.325304      0.846788\n",
       "2         0.920997    0.233993      0.834852\n",
       "3         0.944554    0.172894      0.840495\n",
       "4         0.960302    0.129348      0.794922\n",
       "5         0.972933    0.088399      0.817925\n",
       "6         0.979167    0.069872      0.817925\n",
       "7         0.984416    0.052981      0.822049\n",
       "8         0.985236    0.052007      0.807943\n",
       "9         0.988025    0.035039      0.830512\n",
       "10        0.990322    0.029388      0.816840\n",
       "11        0.992618    0.021596      0.819444\n",
       "12        0.993602    0.019608      0.825521\n",
       "13        0.993832    0.018448      0.807509\n",
       "14        0.994751    0.014203      0.816840"
      ]
     },
     "execution_count": 36,
     "metadata": {},
     "output_type": "execute_result"
    }
   ],
   "source": [
    "results = pd.DataFrame(r_dict)\n",
    "results"
   ]
  },
  {
   "cell_type": "code",
   "execution_count": 37,
   "id": "ec090108",
   "metadata": {},
   "outputs": [],
   "source": [
    "# test_data = TensorDataset(test_inputs, test_masks)\n",
    "# test_sampler = SequentialSampler(test_data)\n",
    "# test_dataloader = DataLoader(test_data, sampler = test_sampler, batch_size = batch_size)\n",
    "\n",
    "# print(\"Predicting labels for {:,} test sentences...\".format(len(test_inputs)))\n",
    "\n",
    "# model.eval() # SET THE MODEL TO EVALUATION MODE\n",
    "\n",
    "# predictions, true_labels = [], []\n",
    "\n",
    "# t0 = time.time()\n",
    "\n",
    "# for (step, batch) in enumerate(test_dataloader):\n",
    "#     batch = tuple(t.to(device) for t in batch)\n",
    "    \n",
    "#     # Progress update every 100 batches\n",
    "#     if step % 100 == 0 and not step == 0:\n",
    "#         elapse = format_time(time.time() - t0)\n",
    "#         print(\"Batch {:>5,} of {:>5,}. Elapse {:}.\".format(step, len(test_dataloader), elapsed))\n",
    "    \n",
    "#     # unpack the inputs from our dataloader\n",
    "#     b_input_ids, b_input_mask = batch\n",
    "    \n",
    "#     # Telling the model not to compute or store gradients, saving memeory and speeding up prediction\n",
    "#     with torch.no_grad():\n",
    "#         outputs = model(b_input_ids, token_type_ids = None, attention_mask = b_input_mask)\n",
    "    \n",
    "#     logits = outputs[0]\n",
    "    \n",
    "#     # Move logits and labels to CPU\n",
    "#     logits = logits.detach().cpu().numpy()\n",
    "# #     label_ids = b_labels.to('cpu').numpy()\n",
    "    \n",
    "#     # Store predictions and true labels\n",
    "#     predictions.append(logits)\n",
    "# #     true_labels.append(label_ids)\n",
    "\n",
    "# print(\"Done\")"
   ]
  },
  {
   "cell_type": "code",
   "execution_count": 38,
   "id": "7fd98cb8",
   "metadata": {},
   "outputs": [],
   "source": [
    "# predictions = np.concatenate(predictions, axis = 0)\n",
    "# predictions[:10]"
   ]
  },
  {
   "cell_type": "code",
   "execution_count": 39,
   "id": "703fe777",
   "metadata": {},
   "outputs": [],
   "source": [
    "# from torch.utils.data import TensorDataset, DataLoader, RandomSampler, SequentialSampler\n",
    "# batch_size = 32\n",
    "\n",
    "# train_data = TensorDataset(input_ids, attention_masks, labels)\n",
    "# train_sampler = RandomSampler(train_data)\n",
    "# train_dataloader = DataLoader(train_data, sampler = train_sampler, batch_size = batch_size)\n",
    "\n",
    "# test_data = "
   ]
  }
 ],
 "metadata": {
  "kernelspec": {
   "display_name": "disaster-tweets",
   "language": "python",
   "name": "disaster-tweets"
  },
  "language_info": {
   "codemirror_mode": {
    "name": "ipython",
    "version": 3
   },
   "file_extension": ".py",
   "mimetype": "text/x-python",
   "name": "python",
   "nbconvert_exporter": "python",
   "pygments_lexer": "ipython3",
   "version": "3.8.10"
  }
 },
 "nbformat": 4,
 "nbformat_minor": 5
}
